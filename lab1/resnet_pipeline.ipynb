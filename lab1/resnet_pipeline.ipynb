{
 "cells": [
  {
   "cell_type": "code",
   "execution_count": 21,
   "metadata": {},
   "outputs": [],
   "source": [
    "import optuna\n",
    "import numpy as np\n",
    "import pandas as pd\n",
    "import matplotlib.pyplot as plt\n",
    "\n",
    "import torch\n",
    "from torch.utils.data import DataLoader, TensorDataset\n",
    "import pytorch_lightning as pl\n",
    "\n",
    "from sklearn.utils import resample\n",
    "from sklearn.model_selection import StratifiedKFold, train_test_split\n",
    "from sklearn.metrics import f1_score, confusion_matrix, ConfusionMatrixDisplay\n",
    "from sklearn.preprocessing import QuantileTransformer\n",
    "\n",
    "from models.resnet import ResNet\n",
    "\n",
    "pl.seed_everything(1, workers=True)"
   ]
  },
  {
   "cell_type": "code",
   "execution_count": 81,
   "metadata": {},
   "outputs": [],
   "source": [
    "X = pd.read_csv(\"data/train_preproc.csv\").drop(columns=['Unnamed: 0'])\n",
    "y = pd.read_csv(\"data/y_train.csv\").drop(columns=['Unnamed: 0'])\n",
    "\n",
    "scaler = QuantileTransformer(n_quantiles=20, output_distribution='normal')\n",
    "scaler.fit(X[['Age_at_diagnosis']])\n",
    "\n",
    "X[['Age_at_diagnosis']] = scaler.transform(X[['Age_at_diagnosis']])\n",
    "\n",
    "selected_features = [\"IDH1\", \"CIC\", \"FUBP1\", \"Age_at_diagnosis\", \"RB1\"]\n",
    "\n",
    "X = X[selected_features]\n",
    "\n",
    "X_train, X_test, y_train, y_test = train_test_split(\n",
    "        X, y, test_size=0.1, random_state=1,\n",
    "    )"
   ]
  },
  {
   "cell_type": "code",
   "execution_count": 64,
   "metadata": {},
   "outputs": [],
   "source": [
    "def prepare_dataloaders(X: pd.DataFrame, \n",
    "                        y: pd.DataFrame, \n",
    "                        test_size: float = 0.1, \n",
    "                        seed: int = 1, \n",
    "                        batch_size: int = 128):\n",
    "\n",
    "    X_train, X_val, y_train, y_val = train_test_split(\n",
    "        X, y, test_size=test_size, random_state=seed,\n",
    "    )\n",
    "\n",
    "    X_train = torch.from_numpy(X_train.values.astype(np.float32)).float()\n",
    "    y_train = torch.from_numpy(y_train.values.astype(np.float32)).float().squeeze(-1)\n",
    "\n",
    "    X_val = torch.from_numpy(X_val.values.astype(np.float32)).float()\n",
    "    y_val = torch.from_numpy(y_val.values.astype(np.float32)).float().squeeze(-1)\n",
    "\n",
    "    train_dataset = TensorDataset(X_train, y_train)\n",
    "    val_dataset = TensorDataset(X_val, y_val)\n",
    "\n",
    "    train_loader = DataLoader(train_dataset, batch_size=batch_size, shuffle=True, num_workers=27)\n",
    "    val_loader = DataLoader(val_dataset, batch_size=batch_size, num_workers=27)\n",
    "\n",
    "    return train_loader, val_loader"
   ]
  },
  {
   "cell_type": "code",
   "execution_count": 78,
   "metadata": {},
   "outputs": [],
   "source": [
    "def fit(X: pd.DataFrame, y: pd.DataFrame, params: dict = {}, seed: int = None):\n",
    "    train_loader, val_loader = prepare_dataloaders(X, y)\n",
    "\n",
    "    model = ResNet(X.shape[1], params)\n",
    "\n",
    "    trainer = pl.Trainer(\n",
    "        max_epochs=50,\n",
    "\n",
    "        callbacks=[\n",
    "            pl.callbacks.EarlyStopping(monitor='val_f1', mode='max', patience=15, min_delta=1e-4),\n",
    "            pl.callbacks.ModelCheckpoint(save_top_k=1, monitor=\"val_f1\", mode=\"max\"),\n",
    "        ],\n",
    "        accelerator=\"auto\",\n",
    "        enable_checkpointing=True,\n",
    "        logger=True\n",
    "    )\n",
    "\n",
    "    trainer.fit(model, train_loader, val_loader)\n",
    "\n",
    "    return model\n",
    "\n",
    "def predict(model: torch.nn.Module, X_test: np.ndarray, threshold: float = 0.5) -> np.ndarray:\n",
    "\n",
    "    model.eval()\n",
    "    test_loader = DataLoader(torch.from_numpy(X_test.values.astype(np.float32)).float(),batch_size=2000)\n",
    "\n",
    "    predictions = []\n",
    "    with torch.no_grad():\n",
    "        for x in test_loader:\n",
    "            y_pred = model(x)\n",
    "            predictions.append(y_pred.cpu().numpy())\n",
    "            \n",
    "    predicted_proba = np.concatenate(predictions)\n",
    "    predicted_labels = (predicted_proba >= threshold).astype(np.int8)\n",
    "\n",
    "    return predicted_labels"
   ]
  },
  {
   "cell_type": "code",
   "execution_count": null,
   "metadata": {},
   "outputs": [],
   "source": [
    "def fit_and_test(X, y, train_index, test_index, config = None) -> float:\n",
    "    X_train_ = X.loc[train_index,:]\n",
    "    X_test_ = X.loc[test_index,:]\n",
    "    y_train_ = y.loc[train_index, :]\n",
    "    y_test_ = y.loc[test_index, :]\n",
    "\n",
    "    model = fit(X_train_, y_train_, config)\n",
    "    preds = predict(model, X_test_)\n",
    "    \n",
    "    return f1_score(y_test_, preds)\n",
    "\n",
    "def objective(trial):\n",
    "    config = {\n",
    "        'learning_rate': trial.suggest_float('learning_rate', 1e-3, 0.1,log=True),\n",
    "        'weight_decay': trial.suggest_float('weight_decay', 1e-6, 1e-2,log=True),\n",
    "        'n_hidden':trial.suggest_int('n_hidden', 2, 5),\n",
    "        'layer_size': trial.suggest_int('layer_size', 8, 512, log=True),\n",
    "        'batch_size': trial.suggest_int('batch_size', 32, 2048, log=True),\n",
    "        'normalization': trial.suggest_categorical('normalization', choices=['layer_norm', 'batch_norm']),\n",
    "        'dropout': trial.suggest_categorical('dropout', choices=['dropout', 'dropout1d']),\n",
    "        'activation': trial.suggest_categorical('activation', choices=['relu', 'gelu']), \n",
    "        'use_scheduler': trial.suggest_categorical('use_scheduler', choices=['True', 'False']), \n",
    "        'hidden_factor': trial.suggest_float('hidden_factor', 1, 4),\n",
    "        'hidden_dropout': trial.suggest_float('hidden_dropout', 0, 0.5),\n",
    "        'residual_dropout': trial.suggest_float('residual_dropout', 0, 0.5),\n",
    "    }\n",
    "\n",
    "    cv = StratifiedKFold(n_splits=3, shuffle=True, random_state=1)\n",
    "\n",
    "    scores = []\n",
    "    for i,(train_index,test_index) in enumerate(cv.split(X_train, y_train)):\n",
    "\n",
    "        f1_score = fit_and_test(X_train, y_train, train_index, test_index, config)\n",
    "        scores.append(f1_score)\n",
    "    \n",
    "    return np.mean(scores)\n",
    "\n",
    "study = optuna.create_study(directions=['maximize'], study_name='mlp')\n",
    "study.optimize(objective, n_trials=50) "
   ]
  },
  {
   "cell_type": "code",
   "execution_count": 92,
   "metadata": {},
   "outputs": [],
   "source": [
    "best_params =  {'learning_rate': 0.010820593737363857,\n",
    " 'weight_decay': 0.0028708446665428656,\n",
    " 'n_hidden': 2,\n",
    " 'layer_size': 107,\n",
    " 'batch_size': 329,\n",
    " 'normalization': 'layer_norm',\n",
    " 'dropout': 'dropout',\n",
    " 'activation': 'relu',\n",
    " 'use_scheduler': 'True',\n",
    " 'hidden_factor': 3.0936187623304567,\n",
    " 'hidden_dropout': 0.4581803981076345,\n",
    " 'residual_dropout': 0.4958419174044564}"
   ]
  },
  {
   "cell_type": "code",
   "execution_count": 93,
   "metadata": {},
   "outputs": [
    {
     "name": "stderr",
     "output_type": "stream",
     "text": [
      "GPU available: True (cuda), used: True\n",
      "TPU available: False, using: 0 TPU cores\n"
     ]
    },
    {
     "name": "stderr",
     "output_type": "stream",
     "text": [
      "HPU available: False, using: 0 HPUs\n",
      "LOCAL_RANK: 0 - CUDA_VISIBLE_DEVICES: [0]\n",
      "\n",
      "  | Name       | Type          | Params | Mode \n",
      "-----------------------------------------------------\n",
      "0 | loss       | BCELoss       | 0      | train\n",
      "1 | f1         | BinaryF1Score | 0      | train\n",
      "2 | blocks     | Sequential    | 144 K  | train\n",
      "3 | prediction | Sequential    | 322    | train\n",
      "-----------------------------------------------------\n",
      "145 K     Trainable params\n",
      "0         Non-trainable params\n",
      "145 K     Total params\n",
      "0.581     Total estimated model params size (MB)\n",
      "27        Modules in train mode\n",
      "0         Modules in eval mode\n"
     ]
    },
    {
     "data": {
      "application/vnd.jupyter.widget-view+json": {
       "model_id": "0b5b2efb864f4fc59612ea03ff87e659",
       "version_major": 2,
       "version_minor": 0
      },
      "text/plain": [
       "Sanity Checking: |          | 0/? [00:00<?, ?it/s]"
      ]
     },
     "metadata": {},
     "output_type": "display_data"
    },
    {
     "name": "stderr",
     "output_type": "stream",
     "text": [
      "/home/kate/miniconda3/lib/python3.10/site-packages/pytorch_lightning/loops/fit_loop.py:298: The number of training batches (1) is smaller than the logging interval Trainer(log_every_n_steps=50). Set a lower value for log_every_n_steps if you want to see logs for the training epoch.\n"
     ]
    },
    {
     "data": {
      "application/vnd.jupyter.widget-view+json": {
       "model_id": "391cdd99556e415cb8040393e06ae72e",
       "version_major": 2,
       "version_minor": 0
      },
      "text/plain": [
       "Training: |          | 0/? [00:00<?, ?it/s]"
      ]
     },
     "metadata": {},
     "output_type": "display_data"
    },
    {
     "data": {
      "application/vnd.jupyter.widget-view+json": {
       "model_id": "7a1ed842f2e241c7bd8ea932debfcfdf",
       "version_major": 2,
       "version_minor": 0
      },
      "text/plain": [
       "Validation: |          | 0/? [00:00<?, ?it/s]"
      ]
     },
     "metadata": {},
     "output_type": "display_data"
    },
    {
     "data": {
      "application/vnd.jupyter.widget-view+json": {
       "model_id": "eba71fa140784141932532e1fe9183f9",
       "version_major": 2,
       "version_minor": 0
      },
      "text/plain": [
       "Validation: |          | 0/? [00:00<?, ?it/s]"
      ]
     },
     "metadata": {},
     "output_type": "display_data"
    },
    {
     "data": {
      "application/vnd.jupyter.widget-view+json": {
       "model_id": "a3955343e545463c95b60cfcfb21ccd7",
       "version_major": 2,
       "version_minor": 0
      },
      "text/plain": [
       "Validation: |          | 0/? [00:00<?, ?it/s]"
      ]
     },
     "metadata": {},
     "output_type": "display_data"
    },
    {
     "data": {
      "application/vnd.jupyter.widget-view+json": {
       "model_id": "6c4c8f2d53e74e76a294d87af1608d00",
       "version_major": 2,
       "version_minor": 0
      },
      "text/plain": [
       "Validation: |          | 0/? [00:00<?, ?it/s]"
      ]
     },
     "metadata": {},
     "output_type": "display_data"
    },
    {
     "data": {
      "application/vnd.jupyter.widget-view+json": {
       "model_id": "485fbbd237394f6eb1b2b2c0f58d7bda",
       "version_major": 2,
       "version_minor": 0
      },
      "text/plain": [
       "Validation: |          | 0/? [00:00<?, ?it/s]"
      ]
     },
     "metadata": {},
     "output_type": "display_data"
    },
    {
     "data": {
      "application/vnd.jupyter.widget-view+json": {
       "model_id": "360d8e56d4be42418c8568597839d9a8",
       "version_major": 2,
       "version_minor": 0
      },
      "text/plain": [
       "Validation: |          | 0/? [00:00<?, ?it/s]"
      ]
     },
     "metadata": {},
     "output_type": "display_data"
    },
    {
     "data": {
      "application/vnd.jupyter.widget-view+json": {
       "model_id": "c3d539b84bec4f20b15c8ec4b09c2bc0",
       "version_major": 2,
       "version_minor": 0
      },
      "text/plain": [
       "Validation: |          | 0/? [00:00<?, ?it/s]"
      ]
     },
     "metadata": {},
     "output_type": "display_data"
    },
    {
     "data": {
      "application/vnd.jupyter.widget-view+json": {
       "model_id": "f699a8ee29884433b383ec1c4cfeb561",
       "version_major": 2,
       "version_minor": 0
      },
      "text/plain": [
       "Validation: |          | 0/? [00:00<?, ?it/s]"
      ]
     },
     "metadata": {},
     "output_type": "display_data"
    },
    {
     "data": {
      "application/vnd.jupyter.widget-view+json": {
       "model_id": "7ee4f2437cbc4bb4ba315352c41374ed",
       "version_major": 2,
       "version_minor": 0
      },
      "text/plain": [
       "Validation: |          | 0/? [00:00<?, ?it/s]"
      ]
     },
     "metadata": {},
     "output_type": "display_data"
    },
    {
     "data": {
      "application/vnd.jupyter.widget-view+json": {
       "model_id": "26d75ff95f8443a789c068cb2c1b099f",
       "version_major": 2,
       "version_minor": 0
      },
      "text/plain": [
       "Validation: |          | 0/? [00:00<?, ?it/s]"
      ]
     },
     "metadata": {},
     "output_type": "display_data"
    },
    {
     "data": {
      "application/vnd.jupyter.widget-view+json": {
       "model_id": "bb6aa272423d4c5b8354b5cf292ede10",
       "version_major": 2,
       "version_minor": 0
      },
      "text/plain": [
       "Validation: |          | 0/? [00:00<?, ?it/s]"
      ]
     },
     "metadata": {},
     "output_type": "display_data"
    },
    {
     "data": {
      "application/vnd.jupyter.widget-view+json": {
       "model_id": "caccba5f39004d7cb075352ec6da61d6",
       "version_major": 2,
       "version_minor": 0
      },
      "text/plain": [
       "Validation: |          | 0/? [00:00<?, ?it/s]"
      ]
     },
     "metadata": {},
     "output_type": "display_data"
    },
    {
     "data": {
      "application/vnd.jupyter.widget-view+json": {
       "model_id": "8fd69c488f8d4f2eb168724ae7006800",
       "version_major": 2,
       "version_minor": 0
      },
      "text/plain": [
       "Validation: |          | 0/? [00:00<?, ?it/s]"
      ]
     },
     "metadata": {},
     "output_type": "display_data"
    },
    {
     "data": {
      "application/vnd.jupyter.widget-view+json": {
       "model_id": "805388411c99453bb312b03c83e37e9e",
       "version_major": 2,
       "version_minor": 0
      },
      "text/plain": [
       "Validation: |          | 0/? [00:00<?, ?it/s]"
      ]
     },
     "metadata": {},
     "output_type": "display_data"
    },
    {
     "data": {
      "application/vnd.jupyter.widget-view+json": {
       "model_id": "9bda0245c35b468995363510864c9abc",
       "version_major": 2,
       "version_minor": 0
      },
      "text/plain": [
       "Validation: |          | 0/? [00:00<?, ?it/s]"
      ]
     },
     "metadata": {},
     "output_type": "display_data"
    },
    {
     "data": {
      "application/vnd.jupyter.widget-view+json": {
       "model_id": "86d8134f82fa4473801badc13a96e331",
       "version_major": 2,
       "version_minor": 0
      },
      "text/plain": [
       "Validation: |          | 0/? [00:00<?, ?it/s]"
      ]
     },
     "metadata": {},
     "output_type": "display_data"
    },
    {
     "data": {
      "application/vnd.jupyter.widget-view+json": {
       "model_id": "7c65b15ed4bb4cc3b6b9247d03ab3a1a",
       "version_major": 2,
       "version_minor": 0
      },
      "text/plain": [
       "Validation: |          | 0/? [00:00<?, ?it/s]"
      ]
     },
     "metadata": {},
     "output_type": "display_data"
    },
    {
     "data": {
      "application/vnd.jupyter.widget-view+json": {
       "model_id": "c31ab952bb084e02b20a4294fcca7cc2",
       "version_major": 2,
       "version_minor": 0
      },
      "text/plain": [
       "Validation: |          | 0/? [00:00<?, ?it/s]"
      ]
     },
     "metadata": {},
     "output_type": "display_data"
    },
    {
     "data": {
      "application/vnd.jupyter.widget-view+json": {
       "model_id": "1380ba194bc74d3aa7f2725f8c7cd798",
       "version_major": 2,
       "version_minor": 0
      },
      "text/plain": [
       "Validation: |          | 0/? [00:00<?, ?it/s]"
      ]
     },
     "metadata": {},
     "output_type": "display_data"
    }
   ],
   "source": [
    "model = fit(X_train, y_train, best_params)\n",
    " \n",
    "predictions = predict(model, X_test)"
   ]
  },
  {
   "cell_type": "code",
   "execution_count": 94,
   "metadata": {},
   "outputs": [
    {
     "data": {
      "text/plain": [
       "0.8571428571428571"
      ]
     },
     "execution_count": 94,
     "metadata": {},
     "output_type": "execute_result"
    }
   ],
   "source": [
    "f1 = f1_score(y_test, predictions)\n",
    "f1"
   ]
  },
  {
   "cell_type": "code",
   "execution_count": 95,
   "metadata": {},
   "outputs": [
    {
     "data": {
      "text/plain": [
       "<Figure size 800x600 with 0 Axes>"
      ]
     },
     "metadata": {},
     "output_type": "display_data"
    },
    {
     "data": {
      "image/png": "[encoded data removed]",
      "text/plain": [
       "<Figure size 640x480 with 2 Axes>"
      ]
     },
     "metadata": {},
     "output_type": "display_data"
    }
   ],
   "source": [
    "confusion_m = confusion_matrix(y_test, predictions)\n",
    "\n",
    "plt.figure(figsize=(8, 6))\n",
    "ConfusionMatrixDisplay(confusion_m, display_labels=['LGG (0)', 'GBM (1)']).plot(cmap='Blues')\n",
    "plt.show();"
   ]
  },
  {
   "cell_type": "code",
   "execution_count": null,
   "metadata": {},
   "outputs": [],
   "source": [
    "n_ensemble = 3\n",
    "threshold = 0.5\n",
    "predictions_list = []\n",
    "\n",
    "X_y = X_train.join(y_train)\n",
    "\n",
    "for i in range(n_ensemble):\n",
    "    seed = n_ensemble * i\n",
    "    df_resampled = resample(X_y, replace=False, random_state=seed)\n",
    "\n",
    "    target = df_resampled[\"Grade\"]\n",
    "    train = df_resampled.drop(\"Grade\", axis=1)\n",
    "\n",
    "    model = fit(train, target, best_params, seed=seed)\n",
    "    preds = predict(model, X_test)\n",
    "    \n",
    "    predictions_list.append(preds)"
   ]
  },
  {
   "cell_type": "code",
   "execution_count": 100,
   "metadata": {},
   "outputs": [
    {
     "data": {
      "text/plain": [
       "<Figure size 800x600 with 0 Axes>"
      ]
     },
     "metadata": {},
     "output_type": "display_data"
    },
    {
     "data": {
      "image/png": "[encoded data removed]",
      "text/plain": [
       "<Figure size 640x480 with 2 Axes>"
      ]
     },
     "metadata": {},
     "output_type": "display_data"
    }
   ],
   "source": [
    "confusion_m = confusion_matrix(y_test, predictions)\n",
    "\n",
    "plt.figure(figsize=(8, 6))\n",
    "ConfusionMatrixDisplay(confusion_m, display_labels=['LGG (0)', 'GBM (1)']).plot(cmap='Blues')\n",
    "plt.show();"
   ]
  }
 ],
 "metadata": {
  "kernelspec": {
   "display_name": "base",
   "language": "python",
   "name": "python3"
  },
  "language_info": {
   "codemirror_mode": {
    "name": "ipython",
    "version": 3
   },
   "file_extension": ".py",
   "mimetype": "text/x-python",
   "name": "python",
   "nbconvert_exporter": "python",
   "pygments_lexer": "ipython3",
   "version": "3.10.14"
  }
 },
 "nbformat": 4,
 "nbformat_minor": 2
}
