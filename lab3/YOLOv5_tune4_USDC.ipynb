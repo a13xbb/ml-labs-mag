{
  "nbformat": 4,
  "nbformat_minor": 0,
  "metadata": {
    "colab": {
      "provenance": []
    },
    "kernelspec": {
      "name": "python3",
      "display_name": "Python 3"
    },
    "language_info": {
      "name": "python"
    }
  },
  "cells": [
    {
      "cell_type": "code",
      "execution_count": 1,
      "metadata": {
        "id": "AG55WTG3Sd8i"
      },
      "outputs": [],
      "source": [
        "import torch\n",
        "import torch.nn as nn\n",
        "import json\n",
        "import yaml\n",
        "import pandas as pd\n",
        "import numpy as np\n",
        "from torch.utils.data import Dataset\n",
        "from PIL import Image, ImageDraw, ImageOps\n",
        "import torchvision.transforms as transforms\n",
        "import torchvision.transforms.functional as TF\n",
        "from torchvision.transforms import v2\n",
        "import matplotlib.pyplot as plt\n",
        "import os\n",
        "import random\n",
        "import math"
      ]
    },
    {
      "cell_type": "markdown",
      "source": [
        "Mount cloud drive with data on GC"
      ],
      "metadata": {
        "id": "XLBgrT4_IdpM"
      }
    },
    {
      "cell_type": "code",
      "source": [
        "from google.colab import drive\n",
        "drive.mount('/content/drive/')"
      ],
      "metadata": {
        "colab": {
          "base_uri": "https://localhost:8080/"
        },
        "id": "FVZe3jCJHGzv",
        "outputId": "9a03951f-47a9-4f11-e6e3-817b0aabc89c"
      },
      "execution_count": 4,
      "outputs": [
        {
          "output_type": "stream",
          "name": "stdout",
          "text": [
            "Mounted at /content/drive/\n"
          ]
        }
      ]
    },
    {
      "cell_type": "code",
      "source": [
        "!ls /content/drive/MyDrive/ML_IDA24_USDCdataset"
      ],
      "metadata": {
        "colab": {
          "base_uri": "https://localhost:8080/"
        },
        "id": "qxJYnMsiGIvB",
        "outputId": "39ac1baa-0dc4-4b2c-a333-48b33581dc81"
      },
      "execution_count": 2,
      "outputs": [
        {
          "output_type": "stream",
          "name": "stdout",
          "text": [
            "README.dataset.txt   submission.csv\t   test_images\t usdc_train.json\n",
            "README.roboflow.txt  test_file_names.json  train_images\n"
          ]
        }
      ]
    },
    {
      "cell_type": "markdown",
      "source": [
        "Main PATHs"
      ],
      "metadata": {
        "id": "OtBVE6GJJFD9"
      }
    },
    {
      "cell_type": "code",
      "source": [
        "# !cp -r /content/drive/MyDrive/ML_IDA24_USDCdataset /content/ML_IDA24_USDCdataset\n",
        "!cp -r /content/drive/MyDrive/ML_IDA24_USDC_YOLO/USDC /content/USDC #if cahced"
      ],
      "metadata": {
        "id": "8e-6EsdmXTYz"
      },
      "execution_count": 3,
      "outputs": []
    },
    {
      "cell_type": "code",
      "source": [
        "MODEL_OUTPUTS_DIR = '/content/ML_IDA24_USDCmodelingspace/'"
      ],
      "metadata": {
        "id": "tNlk8vVVGUDe"
      },
      "execution_count": 7,
      "outputs": []
    },
    {
      "cell_type": "code",
      "source": [
        "if not os.path.exists(MODEL_OUTPUTS_DIR):\n",
        "  !mkdir {MODEL_OUTPUTS_DIR}"
      ],
      "metadata": {
        "id": "1fws5qLRXFpE"
      },
      "execution_count": 8,
      "outputs": []
    },
    {
      "cell_type": "code",
      "source": [
        "!ls {TRAIN_DATA_DIR}"
      ],
      "metadata": {
        "id": "Vs-T3cIlIuzH",
        "colab": {
          "base_uri": "https://localhost:8080/"
        },
        "outputId": "740c6834-bfc7-4ec0-8111-7cbf8b3542ff"
      },
      "execution_count": 7,
      "outputs": [
        {
          "output_type": "stream",
          "name": "stdout",
          "text": [
            "ls: cannot access './content/ML_IDA24_USDCdataset/train_images/train_images/': No such file or directory\n"
          ]
        }
      ]
    },
    {
      "cell_type": "code",
      "source": [
        "!ls {TEST_DATA_DIR}"
      ],
      "metadata": {
        "id": "8JKAkw0IIxHb",
        "colab": {
          "base_uri": "https://localhost:8080/"
        },
        "outputId": "105b2da6-4a94-4527-e6fa-253d1f9bd36e"
      },
      "execution_count": 8,
      "outputs": [
        {
          "output_type": "stream",
          "name": "stdout",
          "text": [
            "ls: cannot access './content/ML_IDA24_USDCdataset/test_images/test_images/': No such file or directory\n"
          ]
        }
      ]
    },
    {
      "cell_type": "markdown",
      "source": [
        "Preparation"
      ],
      "metadata": {
        "id": "Zmt-R6maUEK3"
      }
    },
    {
      "cell_type": "code",
      "source": [
        "if not os.path.exists('yolov5'):\n",
        "    !git clone https://github.com/ultralytics/yolov5.git"
      ],
      "metadata": {
        "colab": {
          "base_uri": "https://localhost:8080/"
        },
        "id": "QQSbnd4cVOpL",
        "outputId": "9732c72a-7e9d-4d1b-c010-eb3e782aaebe"
      },
      "execution_count": 9,
      "outputs": [
        {
          "output_type": "stream",
          "name": "stdout",
          "text": [
            "Cloning into 'yolov5'...\n",
            "remote: Enumerating objects: 17067, done.\u001b[K\n",
            "remote: Counting objects: 100% (45/45), done.\u001b[K\n",
            "remote: Compressing objects: 100% (33/33), done.\u001b[K\n",
            "remote: Total 17067 (delta 24), reused 27 (delta 12), pack-reused 17022 (from 1)\u001b[K\n",
            "Receiving objects: 100% (17067/17067), 15.69 MiB | 16.26 MiB/s, done.\n",
            "Resolving deltas: 100% (11718/11718), done.\n"
          ]
        }
      ]
    },
    {
      "cell_type": "code",
      "source": [
        "!pip install -r /content/yolov5/requirements.txt"
      ],
      "metadata": {
        "id": "znW7D024aT2v"
      },
      "execution_count": null,
      "outputs": []
    },
    {
      "cell_type": "code",
      "source": [
        "if not os.path.exists('JSON2YOLO'):\n",
        "    !git clone https://github.com/ultralytics/JSON2YOLO.git"
      ],
      "metadata": {
        "colab": {
          "base_uri": "https://localhost:8080/"
        },
        "id": "DVaTNMJTlA82",
        "outputId": "3c44dee1-efe3-41a8-8174-f3cbcdfe7c0b"
      },
      "execution_count": 7,
      "outputs": [
        {
          "output_type": "stream",
          "name": "stdout",
          "text": [
            "Cloning into 'JSON2YOLO'...\n",
            "remote: Enumerating objects: 421, done.\u001b[K\n",
            "remote: Counting objects: 100% (285/285), done.\u001b[K\n",
            "remote: Compressing objects: 100% (95/95), done.\u001b[K\n",
            "remote: Total 421 (delta 243), reused 199 (delta 184), pack-reused 136 (from 1)\u001b[K\n",
            "Receiving objects: 100% (421/421), 120.25 KiB | 1.02 MiB/s, done.\n",
            "Resolving deltas: 100% (259/259), done.\n"
          ]
        }
      ]
    },
    {
      "cell_type": "code",
      "source": [
        "!pip install -r /content/JSON2YOLO/requirements.txt"
      ],
      "metadata": {
        "colab": {
          "base_uri": "https://localhost:8080/"
        },
        "id": "xycLDel9k_6e",
        "outputId": "16a010d4-641e-4321-cf96-7bd0502ac94f"
      },
      "execution_count": 14,
      "outputs": [
        {
          "output_type": "stream",
          "name": "stdout",
          "text": [
            "Requirement already satisfied: numpy in /usr/local/lib/python3.10/dist-packages (from -r /content/JSON2YOLO/requirements.txt (line 3)) (1.26.4)\n",
            "Requirement already satisfied: opencv-python>=4.1.2 in /usr/local/lib/python3.10/dist-packages (from -r /content/JSON2YOLO/requirements.txt (line 4)) (4.10.0.84)\n",
            "Requirement already satisfied: pandas in /usr/local/lib/python3.10/dist-packages (from -r /content/JSON2YOLO/requirements.txt (line 5)) (2.2.2)\n",
            "Requirement already satisfied: Pillow in /usr/local/lib/python3.10/dist-packages (from -r /content/JSON2YOLO/requirements.txt (line 6)) (11.0.0)\n",
            "Requirement already satisfied: pyYAML in /usr/local/lib/python3.10/dist-packages (from -r /content/JSON2YOLO/requirements.txt (line 7)) (6.0.2)\n",
            "Requirement already satisfied: requests in /usr/local/lib/python3.10/dist-packages (from -r /content/JSON2YOLO/requirements.txt (line 8)) (2.32.3)\n",
            "Requirement already satisfied: tqdm in /usr/local/lib/python3.10/dist-packages (from -r /content/JSON2YOLO/requirements.txt (line 9)) (4.66.6)\n",
            "Requirement already satisfied: python-dateutil>=2.8.2 in /usr/local/lib/python3.10/dist-packages (from pandas->-r /content/JSON2YOLO/requirements.txt (line 5)) (2.8.2)\n",
            "Requirement already satisfied: pytz>=2020.1 in /usr/local/lib/python3.10/dist-packages (from pandas->-r /content/JSON2YOLO/requirements.txt (line 5)) (2024.2)\n",
            "Requirement already satisfied: tzdata>=2022.7 in /usr/local/lib/python3.10/dist-packages (from pandas->-r /content/JSON2YOLO/requirements.txt (line 5)) (2024.2)\n",
            "Requirement already satisfied: charset-normalizer<4,>=2 in /usr/local/lib/python3.10/dist-packages (from requests->-r /content/JSON2YOLO/requirements.txt (line 8)) (3.4.0)\n",
            "Requirement already satisfied: idna<4,>=2.5 in /usr/local/lib/python3.10/dist-packages (from requests->-r /content/JSON2YOLO/requirements.txt (line 8)) (3.10)\n",
            "Requirement already satisfied: urllib3<3,>=1.21.1 in /usr/local/lib/python3.10/dist-packages (from requests->-r /content/JSON2YOLO/requirements.txt (line 8)) (2.2.3)\n",
            "Requirement already satisfied: certifi>=2017.4.17 in /usr/local/lib/python3.10/dist-packages (from requests->-r /content/JSON2YOLO/requirements.txt (line 8)) (2024.8.30)\n",
            "Requirement already satisfied: six>=1.5 in /usr/local/lib/python3.10/dist-packages (from python-dateutil>=2.8.2->pandas->-r /content/JSON2YOLO/requirements.txt (line 5)) (1.16.0)\n"
          ]
        }
      ]
    },
    {
      "cell_type": "code",
      "source": [
        "%env PYTHONPATH=\"$/env/python:/content/JSON2YOLO/utils.py\""
      ],
      "metadata": {
        "colab": {
          "base_uri": "https://localhost:8080/"
        },
        "id": "4hb052TgrvgH",
        "outputId": "aecbdd6b-cb71-49f0-aec2-153e43448b38"
      },
      "execution_count": 19,
      "outputs": [
        {
          "output_type": "stream",
          "name": "stdout",
          "text": [
            "env: PYTHONPATH=\"$/env/python:/content/JSON2YOLO/utils.py\"\n"
          ]
        }
      ]
    },
    {
      "cell_type": "markdown",
      "source": [
        "DataSet conversion"
      ],
      "metadata": {
        "id": "uLAHiTKbmKGP"
      }
    },
    {
      "cell_type": "code",
      "source": [
        "from JSON2YOLO.general_json2yolo import convert_coco_json"
      ],
      "metadata": {
        "id": "9mAefllBmKi-"
      },
      "execution_count": 9,
      "outputs": []
    },
    {
      "cell_type": "code",
      "source": [
        "!mkdir annotation_train"
      ],
      "metadata": {
        "colab": {
          "base_uri": "https://localhost:8080/"
        },
        "id": "-w-Cwn2r2PFy",
        "outputId": "17308608-5ffb-4776-d88f-269476d026af"
      },
      "execution_count": 11,
      "outputs": [
        {
          "output_type": "stream",
          "name": "stdout",
          "text": [
            "mkdir: cannot create directory ‘annotation_train’: File exists\n"
          ]
        }
      ]
    },
    {
      "cell_type": "code",
      "source": [
        "!mv ./ML_IDA24_USDCdataset/usdc_train.json ./annotation_train"
      ],
      "metadata": {
        "id": "s10FFamT2Tj9"
      },
      "execution_count": 62,
      "outputs": []
    },
    {
      "cell_type": "code",
      "source": [
        "convert_coco_json('./annotation_train', False, False) #slightly modified to properly numerate classes"
      ],
      "metadata": {
        "colab": {
          "base_uri": "https://localhost:8080/"
        },
        "id": "Y0f8oj8fp1l4",
        "outputId": "d0d405bc-316a-442b-c042-c6b4901fb14d"
      },
      "execution_count": 12,
      "outputs": [
        {
          "output_type": "stream",
          "name": "stdout",
          "text": [
            "[PosixPath('/content/annotation_train/usdc_train.json')]\n"
          ]
        },
        {
          "output_type": "stream",
          "name": "stderr",
          "text": [
            "Annotations /content/annotation_train/usdc_train.json: 100%|██████████| 10597/10597 [00:02<00:00, 3661.89it/s]\n"
          ]
        }
      ]
    },
    {
      "cell_type": "code",
      "source": [
        "!mkdir -p /content/USDC/images/train_usdc"
      ],
      "metadata": {
        "id": "-Exk-WAp3rpB"
      },
      "execution_count": 18,
      "outputs": []
    },
    {
      "cell_type": "code",
      "source": [
        "!mkdir -p /content/USDC/labels/train_usdc"
      ],
      "metadata": {
        "id": "4nMTfxml4Fjq"
      },
      "execution_count": 19,
      "outputs": []
    },
    {
      "cell_type": "code",
      "source": [
        "!mkdir -p /content/USDC/images/test_usdc"
      ],
      "metadata": {
        "id": "29oXXnIU77Gl"
      },
      "execution_count": 20,
      "outputs": []
    },
    {
      "cell_type": "code",
      "source": [
        "!mv /content/ML_IDA24_USDCdataset/train_images/train_images/* /content/USDC/images/train_usdc\n",
        "!mv /content/new_dir/labels/usdc_train/* /content/USDC/labels/train_usdc\n",
        "!mv /content/ML_IDA24_USDCdataset/test_images/test_images/* /content/USDC/images/test_usdc"
      ],
      "metadata": {
        "id": "3KetnSp93YND"
      },
      "execution_count": 21,
      "outputs": []
    },
    {
      "cell_type": "code",
      "source": [
        "%cd /content/USDC/\n",
        "!find ./images/train_usdc -name \"*.jpg\" -printf '%p\\n' > /content/USDC/train_usdc.txt\n",
        "!find ./images/test_usdc -name \"*.jpg\" -printf '%p\\n' > /content/USDC/test_usdc.txt"
      ],
      "metadata": {
        "colab": {
          "base_uri": "https://localhost:8080/"
        },
        "id": "9KcrLZZS5mXO",
        "outputId": "46a13bab-5b65-46e0-fa80-6014dd9ba144"
      },
      "execution_count": 24,
      "outputs": [
        {
          "output_type": "stream",
          "name": "stdout",
          "text": [
            "/content/USDC\n"
          ]
        }
      ]
    },
    {
      "cell_type": "code",
      "source": [
        "%cd /content/"
      ],
      "metadata": {
        "colab": {
          "base_uri": "https://localhost:8080/"
        },
        "id": "l6VzFEvv6J0f",
        "outputId": "14d086ca-9095-4ce0-80e5-148c10c70242"
      },
      "execution_count": 25,
      "outputs": [
        {
          "output_type": "stream",
          "name": "stdout",
          "text": [
            "/content\n"
          ]
        }
      ]
    },
    {
      "cell_type": "code",
      "source": [
        "#make yaml\n",
        "\n",
        "with open('./annotation_train/usdc_train.json', 'r') as file:\n",
        "    train_data = json.load(file)\n",
        "classes_dict = {}\n",
        "for sample in train_data['categories']:\n",
        "    classes_dict[sample['id']-1] = sample['name']\n",
        "del classes_dict[-1]\n",
        "classes_dict\n",
        "\n",
        "d = {\n",
        "    \"path\": \"/content/USDC/\",\n",
        "    \"train\": \"train_usdc.txt\",\n",
        "    \"test\": \"test_usdc.txt\",\n",
        "    \"names\": classes_dict,\n",
        "}\n",
        "\n",
        "with open(\"/content/USDC/data.yaml\", \"w\") as f:\n",
        "    yaml.dump(d, f, sort_keys=False)"
      ],
      "metadata": {
        "id": "F5KQWsBB8ZQs"
      },
      "execution_count": 26,
      "outputs": []
    },
    {
      "cell_type": "code",
      "source": [
        "#cache to cloud\n",
        "!mkdir -p /content/drive/MyDrive/ML_IDA24_USDC_YOLO\n",
        "\n",
        "!cp -r /content/USDC/ /content/drive/MyDrive/ML_IDA24_USDC_YOLO"
      ],
      "metadata": {
        "id": "wxWifQCwA-4z"
      },
      "execution_count": 29,
      "outputs": []
    },
    {
      "cell_type": "code",
      "source": [
        "!ls /content/drive/MyDrive/ML_IDA24_USDC_YOLO/USDC"
      ],
      "metadata": {
        "colab": {
          "base_uri": "https://localhost:8080/"
        },
        "id": "1mZtopwTFA3d",
        "outputId": "7d48cbf5-23dc-4fab-de6e-efd2ba8c6a37"
      },
      "execution_count": 31,
      "outputs": [
        {
          "output_type": "stream",
          "name": "stdout",
          "text": [
            "data.yaml  images  labels  test_usdc.txt  train_usdc.txt\n"
          ]
        }
      ]
    },
    {
      "cell_type": "markdown",
      "source": [],
      "metadata": {
        "id": "Vr2eM1fgmJ8Y"
      }
    },
    {
      "cell_type": "code",
      "source": [
        "EPOCHS = 25"
      ],
      "metadata": {
        "id": "ola76nK4dtGa"
      },
      "execution_count": 17,
      "outputs": []
    },
    {
      "cell_type": "code",
      "source": [
        "VANILLA_DIRS = \"vanilla_v5s\""
      ],
      "metadata": {
        "id": "y2m0zNrWgez3"
      },
      "execution_count": 18,
      "outputs": []
    },
    {
      "cell_type": "code",
      "source": [
        "if not os.path.exists(MODEL_OUTPUTS_DIR):\n",
        "  !mkdir -p {MODEL_OUTPUTS_DIR}/{VANILLA_DIRS}"
      ],
      "metadata": {
        "id": "2httkPO-XnBH"
      },
      "execution_count": 19,
      "outputs": []
    },
    {
      "cell_type": "code",
      "source": [
        "LC_DIRS = \"lc_modified_v5s\""
      ],
      "metadata": {
        "id": "aVrJvvG6iaAq"
      },
      "execution_count": 20,
      "outputs": []
    },
    {
      "cell_type": "code",
      "source": [
        "if not os.path.exists(MODEL_OUTPUTS_DIR):\n",
        "  !mkdir -p {MODEL_OUTPUTS_DIR}/{LC_DIRS}"
      ],
      "metadata": {
        "id": "hraX-OU1XvzQ"
      },
      "execution_count": 21,
      "outputs": []
    },
    {
      "cell_type": "code",
      "source": [
        "!nvidia-smi"
      ],
      "metadata": {
        "colab": {
          "base_uri": "https://localhost:8080/"
        },
        "id": "U8FR0C1Ed4zj",
        "outputId": "5e15cbd3-b1ec-4403-edb2-112dccd83adc"
      },
      "execution_count": 22,
      "outputs": [
        {
          "output_type": "stream",
          "name": "stdout",
          "text": [
            "Wed Nov 27 21:12:11 2024       \n",
            "+---------------------------------------------------------------------------------------+\n",
            "| NVIDIA-SMI 535.104.05             Driver Version: 535.104.05   CUDA Version: 12.2     |\n",
            "|-----------------------------------------+----------------------+----------------------+\n",
            "| GPU  Name                 Persistence-M | Bus-Id        Disp.A | Volatile Uncorr. ECC |\n",
            "| Fan  Temp   Perf          Pwr:Usage/Cap |         Memory-Usage | GPU-Util  Compute M. |\n",
            "|                                         |                      |               MIG M. |\n",
            "|=========================================+======================+======================|\n",
            "|   0  Tesla T4                       Off | 00000000:00:04.0 Off |                    0 |\n",
            "| N/A   35C    P8              11W /  70W |      0MiB / 15360MiB |      0%      Default |\n",
            "|                                         |                      |                  N/A |\n",
            "+-----------------------------------------+----------------------+----------------------+\n",
            "                                                                                         \n",
            "+---------------------------------------------------------------------------------------+\n",
            "| Processes:                                                                            |\n",
            "|  GPU   GI   CI        PID   Type   Process name                            GPU Memory |\n",
            "|        ID   ID                                                             Usage      |\n",
            "|=======================================================================================|\n",
            "|  No running processes found                                                           |\n",
            "+---------------------------------------------------------------------------------------+\n"
          ]
        }
      ]
    },
    {
      "cell_type": "markdown",
      "source": [
        "Make data yaml in YOLOv5 repo format"
      ],
      "metadata": {
        "id": "miNQtlWCeL9h"
      }
    },
    {
      "cell_type": "code",
      "source": [],
      "metadata": {
        "id": "LnmI0Y-zeMYm"
      },
      "execution_count": null,
      "outputs": []
    },
    {
      "cell_type": "markdown",
      "source": [
        "Vanilla YOLOv5S tuning for custom dataset"
      ],
      "metadata": {
        "id": "Ms8b7nm4UEk3"
      }
    },
    {
      "cell_type": "code",
      "source": [
        "!python train.py --data ../data.yaml --weights yolov5s.pt \\\n",
        "    --img 512 --epochs {EPOCHS} --batch-size 16 --name {MODEL_OUTPUTS_DIR}/train"
      ],
      "metadata": {
        "id": "7Bjnw5kKU1sI"
      },
      "execution_count": null,
      "outputs": []
    },
    {
      "cell_type": "code",
      "source": [],
      "metadata": {
        "id": "5YTBj3mfiYhV"
      },
      "execution_count": null,
      "outputs": []
    },
    {
      "cell_type": "code",
      "source": [],
      "metadata": {
        "id": "FK41LId6iYvL"
      },
      "execution_count": null,
      "outputs": []
    },
    {
      "cell_type": "markdown",
      "source": [
        "YOLOv5S tuning for custom dataset with LCN"
      ],
      "metadata": {
        "id": "zaZv5o7eUNxg"
      }
    },
    {
      "cell_type": "markdown",
      "source": [
        "Utilitary functoins"
      ],
      "metadata": {
        "id": "gI0WxF7sIaRT"
      }
    }
  ]
}